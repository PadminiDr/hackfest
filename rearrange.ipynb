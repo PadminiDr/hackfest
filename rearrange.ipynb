{
 "cells": [
  {
   "cell_type": "code",
   "execution_count": 23,
   "metadata": {},
   "outputs": [],
   "source": [
    "# Function to replace non-numeric values with '-'\n",
    "def replace_non_numeric(x):\n",
    "    try:\n",
    "        # Try converting to numeric; if it fails, replace with '-'\n",
    "        pd.to_numeric(x)\n",
    "        return x\n",
    "    except (ValueError, TypeError):\n",
    "        return '-'\n",
    "\n"
   ]
  },
  {
   "cell_type": "code",
   "execution_count": 25,
   "metadata": {},
   "outputs": [
    {
     "name": "stdout",
     "output_type": "stream",
     "text": [
      "cleaned data saved to cleaned_financial_analysis_results11.csv.\n"
     ]
    }
   ],
   "source": [
    "##Cleaning the data \n",
    "import pandas as pd\n",
    "\n",
    "# Read the original CSV file\n",
    "input_file = \"11.csv\"\n",
    "df = pd.read_csv(input_file)\n",
    "df['company'] = df['company'].replace({\n",
    "    'Amazon.com': 'Amazon',\n",
    "    'Amazon.com, Inc.': 'Amazon',\n",
    "    'Alphabet Inc':'Alphabet',\n",
    "    'Amazon.com Inc.': 'Amazon.com',\n",
    "    'The Goldman Sachs Group, Inc.': 'Goldman Sachs',\n",
    "    'Goldman Sachs Group, Inc.':'Goldman Sachs',\n",
    "    'Tesla, Inc.':'Tesla',\n",
    "    'Tesla Motors, Inc.': 'Tesla',\n",
    "    'Tesla Motors':'Tesla',\n",
    "    'Valero Energy Corporation': 'Valero Energy',\n",
    "    'Cardinal Health':'Cardinal Health, Inc.',\n",
    "    'BERKSHIRE HATHAWAY INC.': 'Berkshire Hathaway',\n",
    "    'Berkshire Hathaway Inc' : 'Berkshire Hathaway',\n",
    "    '\"Cardinal Health, Inc.\"':'Cardinal Health',\n",
    "    'Chevron Corporation' : 'Chevron'\n",
    "\n",
    "})\n",
    "# Apply the function to the desired column\n",
    "df['capex'] = df['capex'].apply(replace_non_numeric)\n",
    "df['company'] = df['company'].drop(columns=['Company Name'])\n",
    "# Save the rearranged DataFrame to a new CSV file\n",
    "output_file = \"cleaned_financial_analysis_results11.csv\"\n",
    "df.to_csv(output_file, index=False)\n",
    "\n",
    "print(f\"cleaned data saved to {output_file}.\")"
   ]
  },
  {
   "cell_type": "code",
   "execution_count": 35,
   "metadata": {},
   "outputs": [
    {
     "name": "stdout",
     "output_type": "stream",
     "text": [
      "Rearranged data saved to rearranged_financial_analysis_results11.csv.\n"
     ]
    }
   ],
   "source": [
    "## Rearranged input capex with quarter_year with company name \n",
    "import pandas as pd\n",
    "\n",
    "# Read the original CSV file\n",
    "input_file = \"cleaned_financial_analysis_results11.csv\"\n",
    "df = pd.read_csv(input_file)\n",
    "df['quarter'] = df['quarter'].astype(str)\n",
    "df['year'] = df['year'].astype(str)\n",
    "\n",
    "# Add 'Q' prefix to 'quarter'\n",
    "df['quarter'] = 'Q' + df['quarter']\n",
    "# Convert 'quarter' and 'year' columns into a single 'Quarter-Year' column with an underscore\n",
    "df['Quarter-Year'] = df['quarter'] + \"_\" + df['year'].astype(str)\n",
    "\n",
    "# Pivot the DataFrame\n",
    "pivot_df = df.pivot_table(index='company', columns='Quarter-Year', values='capex', aggfunc='first')\n",
    "\n",
    "# Reset the index to make 'company' a column instead of an index\n",
    "pivot_df.reset_index(inplace=True)\n",
    "\n",
    "# Define a function to sort columns in the desired order\n",
    "def sort_columns(df):\n",
    "    # Extract the current columns\n",
    "    columns = df.columns.tolist()\n",
    "    \n",
    "    # Extract the company column and the Quarter-Year columns\n",
    "    company_col = columns[0]\n",
    "    quarter_cols = columns[1:]\n",
    "    \n",
    "    # Generate sorted columns list: Start with the most recent quarters\n",
    "    sorted_quarters = sorted(quarter_cols, key=lambda x: (x.split('_')[1], x.split('_')[0]), reverse=True)\n",
    "    \n",
    "    # Combine sorted columns with the company column\n",
    "    sorted_columns = [company_col] + sorted_quarters\n",
    "    return sorted_columns\n",
    "\n",
    "# Reorder the columns\n",
    "sorted_columns = sort_columns(pivot_df)\n",
    "pivot_df = pivot_df[sorted_columns]\n",
    "pivot_df['company'].unique()\n",
    "pivot_df['company'] = pivot_df['company'].str.replace('\"', ' ', regex=False)\n",
    "# # Save the rearranged DataFrame to a new CSV file\n",
    "output_file = \"rearranged_financial_analysis_results11.csv\"\n",
    "pivot_df.to_csv(output_file, index=False)\n",
    "\n",
    "print(f\"Rearranged data saved to {output_file}.\")"
   ]
  },
  {
   "cell_type": "code",
   "execution_count": 37,
   "metadata": {},
   "outputs": [
    {
     "name": "stdout",
     "output_type": "stream",
     "text": [
      "Capex comparison results saved to capex_comparison_results12.csv.\n"
     ]
    },
    {
     "name": "stderr",
     "output_type": "stream",
     "text": [
      "/tmp/ipykernel_5103/2170017367.py:11: FutureWarning: Series.__getitem__ treating keys as positions is deprecated. In a future version, integer keys will always be treated as labels (consistent with DataFrame behavior). To access a value by position, use `ser.iloc[pos]`\n",
      "  current_value = row[i]\n",
      "/tmp/ipykernel_5103/2170017367.py:12: FutureWarning: Series.__getitem__ treating keys as positions is deprecated. In a future version, integer keys will always be treated as labels (consistent with DataFrame behavior). To access a value by position, use `ser.iloc[pos]`\n",
      "  next_value = row[i + 1]\n"
     ]
    }
   ],
   "source": [
    "import pandas as pd\n",
    "\n",
    "# Read the CSV file\n",
    "input_file = \"rearranged_financial_analysis_results11.csv\"\n",
    "df = pd.read_csv(input_file)\n",
    "\n",
    "# Define a function to compare capex values between consecutive columns\n",
    "def compare_columns(row):\n",
    "    comparisons = []\n",
    "    for i in range(1, len(row) - 1):  # Skip the 'company' column\n",
    "        current_value = row[i]\n",
    "        next_value = row[i + 1]\n",
    "        \n",
    "        if pd.isna(current_value) or pd.isna(next_value):\n",
    "            comparisons.append(\"Data not available\")\n",
    "        else:\n",
    "            try:\n",
    "                current_value = float(current_value)\n",
    "                next_value = float(next_value)\n",
    "                if next_value < current_value:\n",
    "                    comparisons.append(\"increase\")\n",
    "                elif next_value > current_value:\n",
    "                    comparisons.append(\"decrease\")\n",
    "                else:\n",
    "                    comparisons.append(\"unchanged\")\n",
    "            except ValueError:\n",
    "                comparisons.append(\"Data not available\")\n",
    "    \n",
    "    return comparisons\n",
    "\n",
    "# Apply the comparison function to each row\n",
    "comparison_results = df.apply(lambda row: compare_columns(row), axis=1)\n",
    "\n",
    "# Replace the original values in the DataFrame with the comparison results\n",
    "for i, col in enumerate(df.columns[1:-1]):  # Exclude 'company' and the last quarter\n",
    "    df[col] = comparison_results.apply(lambda x: x[i])\n",
    "\n",
    "# Save the comparison results to a new CSV file\n",
    "output_file = \"capex_comparison_results12.csv\"\n",
    "df.to_csv(output_file, index=False)\n",
    "\n",
    "print(f\"Capex comparison results saved to {output_file}.\")"
   ]
  }
 ],
 "metadata": {
  "kernelspec": {
   "display_name": "Python 3",
   "language": "python",
   "name": "python3"
  },
  "language_info": {
   "codemirror_mode": {
    "name": "ipython",
    "version": 3
   },
   "file_extension": ".py",
   "mimetype": "text/x-python",
   "name": "python",
   "nbconvert_exporter": "python",
   "pygments_lexer": "ipython3",
   "version": "3.12.1"
  }
 },
 "nbformat": 4,
 "nbformat_minor": 2
}
